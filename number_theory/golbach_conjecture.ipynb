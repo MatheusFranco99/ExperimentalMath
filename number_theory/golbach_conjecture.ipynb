{
 "cells": [
  {
   "cell_type": "markdown",
   "metadata": {},
   "source": [
    "# Basic prime check function"
   ]
  },
  {
   "cell_type": "code",
   "execution_count": 3,
   "metadata": {},
   "outputs": [],
   "source": [
    "def is_prime(x):\n",
    "    if x < 2:\n",
    "        return False, x\n",
    "    v = 2\n",
    "    while v * v <= x:\n",
    "        if x % v == 0:\n",
    "            return False, v\n",
    "        v += 1\n",
    "    return True, 1"
   ]
  },
  {
   "cell_type": "code",
   "execution_count": 5,
   "metadata": {},
   "outputs": [
    {
     "name": "stdout",
     "output_type": "stream",
     "text": [
      "(True, 1)\n"
     ]
    }
   ],
   "source": [
    "print(is_prime(31))"
   ]
  },
  {
   "cell_type": "markdown",
   "metadata": {},
   "source": [
    "# Fast sieve function"
   ]
  },
  {
   "cell_type": "code",
   "execution_count": 31,
   "metadata": {},
   "outputs": [],
   "source": [
    "# Fastest sieve I know\n",
    "# Taken from https://www.geeksforgeeks.org/sieve-of-atkin/\n",
    "\n",
    "def SieveOfAtkin(limit):\n",
    "    # 2 and 3 are known\n",
    "    # to be prime\n",
    "    ans = []\n",
    "    if limit > 2:\n",
    "        ans.append(2)\n",
    "    if limit > 3:\n",
    "        ans.append(3)\n",
    " \n",
    "    # Initialise the sieve\n",
    "    # array with False values\n",
    "    sieve = [False] * (limit + 1)\n",
    "    for i in range(0, limit + 1):\n",
    "        sieve[i] = False\n",
    " \n",
    "    '''Mark sieve[n] is True if\n",
    "    one of the following is True:\n",
    "    a) n = (4*x*x)+(y*y) has odd\n",
    "    number of solutions, i.e.,\n",
    "    there exist odd number of\n",
    "    distinct pairs (x, y) that\n",
    "    satisfy the equation and\n",
    "    n % 12 = 1 or n % 12 = 5.\n",
    "    b) n = (3*x*x)+(y*y) has\n",
    "    odd number of solutions\n",
    "    and n % 12 = 7\n",
    "    c) n = (3*x*x)-(y*y) has\n",
    "    odd number of solutions,\n",
    "    x > y and n % 12 = 11 '''\n",
    "    x = 1\n",
    "    while x * x <= limit:\n",
    "        y = 1\n",
    "        while y * y <= limit:\n",
    " \n",
    "            # Main part of\n",
    "            # Sieve of Atkin\n",
    "            n = (4 * x * x) + (y * y)\n",
    "            if (n <= limit and (n % 12 == 1 or\n",
    "                                n % 12 == 5)):\n",
    "                sieve[n] ^= True\n",
    " \n",
    "            n = (3 * x * x) + (y * y)\n",
    "            if n <= limit and n % 12 == 7:\n",
    "                sieve[n] ^= True\n",
    " \n",
    "            n = (3 * x * x) - (y * y)\n",
    "            if (x > y and n <= limit and\n",
    "                    n % 12 == 11):\n",
    "                sieve[n] ^= True\n",
    "            y += 1\n",
    "        x += 1\n",
    " \n",
    "    # Mark all multiples of\n",
    "    # squares as non-prime\n",
    "    r = 5\n",
    "    while r * r <= limit:\n",
    "        if sieve[r]:\n",
    "            for i in range(r * r, limit+1, r * r):\n",
    "                sieve[i] = False\n",
    " \n",
    "        r += 1\n",
    "    \n",
    "    for a in range(5, limit+1):\n",
    "        if sieve[a]:\n",
    "            ans.append(a)\n",
    "    \n",
    "    return ans\n",
    "\n",
    "             "
   ]
  },
  {
   "cell_type": "code",
   "execution_count": 47,
   "metadata": {},
   "outputs": [
    {
     "name": "stdout",
     "output_type": "stream",
     "text": [
      "[3, 5, 7, 11, 13, 17, 19, 23, 29, 31, 37, 41, 43, 47, 53, 59, 61, 67, 71, 73, 79, 83, 89, 97, 101, 103, 107, 109, 113, 127, 131, 137, 139, 149, 151, 157, 163, 167, 173, 179, 181, 191, 193, 197, 199, 211, 223, 227, 229, 233, 239, 241, 251, 257, 263, 269, 271, 277, 281, 283, 293, 307, 311, 313, 317, 331, 337, 347, 349, 353, 359, 367, 373, 379, 383, 389, 397, 401, 409, 419, 421, 431, 433, 439, 443, 449, 457, 461, 463, 467, 479, 487, 491, 499, 503, 509, 521, 523, 541, 547]\n"
     ]
    }
   ],
   "source": [
    "limit = 1e6+1\n",
    "primes_lst = SieveOfAtkin(int(limit))[1:]\n",
    "primes = {prime_i: True for prime_i in primes_lst}\n",
    "print(primes_lst[:100])"
   ]
  },
  {
   "cell_type": "markdown",
   "metadata": {},
   "source": [
    "# The number of primes needed to fulfill the golbach conjecture up to a certain even number\n",
    "It takes into consideration the sum:\n",
    "- 3 + 3\n",
    "- 5 + 3\n",
    "- 5 + 5\n",
    "- 7 + 3\n",
    "- 7 + 5\n",
    "- 7 + 7\n",
    "- 11 + 3\n",
    "- 11 + 5\n",
    "- 11 + 7\n",
    "- 11 + 11\n",
    "- ...\n",
    "\n",
    "The function returns the prime $p_i$ for an input $2k$ if $p_i$ is the minimum prime such that all of the sums using $p_i$ or a smaller prime fulfills all even numbers up to $2k$."
   ]
  },
  {
   "cell_type": "code",
   "execution_count": 43,
   "metadata": {},
   "outputs": [],
   "source": [
    "def get_number_of_primes_to_fulfill(limit):\n",
    "    even_numbers = {2 * v:True for v in range(3,limit//2+1)}\n",
    "\n",
    "    repetitions = 0\n",
    "\n",
    "    for idx, prime_1 in enumerate(primes_lst):\n",
    "        for _, prime_2 in enumerate(primes_lst[:idx+1]):\n",
    "            sum = prime_1 + prime_2\n",
    "            assert sum % 2 == 0\n",
    "            if sum in even_numbers:\n",
    "                del even_numbers[sum]\n",
    "                if len(even_numbers) == 0:\n",
    "                    return idx + 1, repetitions\n",
    "            else:\n",
    "                repetitions += 1\n",
    "    \n",
    "    if len(even_numbers) > 0:\n",
    "        raise AssertionError(\"Don't have enough primes\")\n",
    "    \n",
    "    return idx, repetitions\n",
    "                \n"
   ]
  },
  {
   "cell_type": "code",
   "execution_count": 44,
   "metadata": {},
   "outputs": [
    {
     "data": {
      "text/plain": [
       "(2, 0)"
      ]
     },
     "execution_count": 44,
     "metadata": {},
     "output_type": "execute_result"
    }
   ],
   "source": [
    "get_number_of_primes_to_fulfill(10)"
   ]
  },
  {
   "cell_type": "code",
   "execution_count": 64,
   "metadata": {},
   "outputs": [],
   "source": [
    "x_max = 4*1e4\n",
    "\n",
    "x = list(range(10,int(x_max)+1,2))\n",
    "number_of_primes_necessary = []\n",
    "repetitions = []\n",
    "\n",
    "for xi in x:\n",
    "    res, rep = get_number_of_primes_to_fulfill(xi)\n",
    "    number_of_primes_necessary.append(res)\n",
    "    repetitions.append(rep)\n"
   ]
  },
  {
   "cell_type": "code",
   "execution_count": 66,
   "metadata": {},
   "outputs": [
    {
     "name": "stderr",
     "output_type": "stream",
     "text": [
      "/var/folders/0k/cdzy3_mj1jj_23zzmclcqhlw0000gn/T/ipykernel_44718/329598998.py:11: RuntimeWarning: divide by zero encountered in scalar divide\n",
      "  y_test = [xi/(math.log10(xi)**2) for xi in x_test]\n"
     ]
    },
    {
     "data": {
      "image/png": "[encoded data removed]",
      "text/plain": [
       "<Figure size 800x500 with 1 Axes>"
      ]
     },
     "metadata": {},
     "output_type": "display_data"
    },
    {
     "data": {
      "image/png": "[encoded data removed]",
      "text/plain": [
       "<Figure size 800x500 with 1 Axes>"
      ]
     },
     "metadata": {},
     "output_type": "display_data"
    }
   ],
   "source": [
    "import matplotlib.pyplot as plt\n",
    "import scienceplots\n",
    "import numpy as np\n",
    "import math\n",
    "\n",
    "with plt.style.context([\"science\"]):\n",
    "\n",
    "    fig, ax = plt.subplots(figsize = (8,5))\n",
    "\n",
    "    x_test = np.linspace(1,x_max)\n",
    "    y_test = [xi/(math.log10(xi)**2) for xi in x_test]\n",
    "\n",
    "    plt.plot(x, number_of_primes_necessary)\n",
    "    plt.plot(x_test, y_test)\n",
    "\n",
    "    plt.show()\n",
    "\n",
    "with plt.style.context([\"science\"]):\n",
    "\n",
    "    fig, ax = plt.subplots(figsize = (8,5))\n",
    "\n",
    "    plt.plot(x, repetitions)\n",
    "\n",
    "    plt.show()"
   ]
  }
 ],
 "metadata": {
  "kernelspec": {
   "display_name": "Python 3",
   "language": "python",
   "name": "python3"
  },
  "language_info": {
   "codemirror_mode": {
    "name": "ipython",
    "version": 3
   },
   "file_extension": ".py",
   "mimetype": "text/x-python",
   "name": "python",
   "nbconvert_exporter": "python",
   "pygments_lexer": "ipython3",
   "version": "3.11.4"
  }
 },
 "nbformat": 4,
 "nbformat_minor": 2
}
